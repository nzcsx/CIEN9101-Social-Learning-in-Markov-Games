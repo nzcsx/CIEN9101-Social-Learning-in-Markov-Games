{
 "cells": [
  {
   "cell_type": "code",
   "execution_count": 2,
   "id": "71b31854",
   "metadata": {},
   "outputs": [],
   "source": [
    "import pandas as pd"
   ]
  },
  {
   "cell_type": "code",
   "execution_count": 3,
   "id": "d28205bf",
   "metadata": {},
   "outputs": [
    {
     "name": "stderr",
     "output_type": "stream",
     "text": [
      "C:\\Users\\duanh\\AppData\\Local\\Temp/ipykernel_31684/3492058307.py:1: ParserWarning: Length of header or names does not match length of data. This leads to a loss of data with index_col=False.\n",
      "  df = pd.read_csv(\"config_output_0_bg/output.csv\", index_col=False)\n"
     ]
    }
   ],
   "source": [
    "df = pd.read_csv(\"config_output_0_bg/output.csv\", index_col=False)"
   ]
  },
  {
   "cell_type": "code",
   "execution_count": 5,
   "id": "b1a62433",
   "metadata": {},
   "outputs": [
    {
     "data": {
      "text/html": [
       "<div>\n",
       "<style scoped>\n",
       "    .dataframe tbody tr th:only-of-type {\n",
       "        vertical-align: middle;\n",
       "    }\n",
       "\n",
       "    .dataframe tbody tr th {\n",
       "        vertical-align: top;\n",
       "    }\n",
       "\n",
       "    .dataframe thead th {\n",
       "        text-align: right;\n",
       "    }\n",
       "</style>\n",
       "<table border=\"1\" class=\"dataframe\">\n",
       "  <thead>\n",
       "    <tr style=\"text-align: right;\">\n",
       "      <th></th>\n",
       "      <th>Sim</th>\n",
       "      <th>Time step</th>\n",
       "      <th>Color</th>\n",
       "      <th>X</th>\n",
       "      <th>Y</th>\n",
       "      <th>Reward</th>\n",
       "      <th>Move</th>\n",
       "      <th>Color.1</th>\n",
       "      <th>X.1</th>\n",
       "      <th>Y.1</th>\n",
       "      <th>Reward.1</th>\n",
       "      <th>Move.1</th>\n",
       "      <th></th>\n",
       "    </tr>\n",
       "  </thead>\n",
       "  <tbody>\n",
       "    <tr>\n",
       "      <th>0</th>\n",
       "      <td>1</td>\n",
       "      <td>1</td>\n",
       "      <td>green</td>\n",
       "      <td>1.0</td>\n",
       "      <td>5.0</td>\n",
       "      <td>0.0</td>\n",
       "      <td>Go</td>\n",
       "      <td>red</td>\n",
       "      <td>5.0</td>\n",
       "      <td>1.0</td>\n",
       "      <td>0.0</td>\n",
       "      <td>Go</td>\n",
       "      <td></td>\n",
       "    </tr>\n",
       "    <tr>\n",
       "      <th>1</th>\n",
       "      <td>1</td>\n",
       "      <td>2</td>\n",
       "      <td>green</td>\n",
       "      <td>2.0</td>\n",
       "      <td>5.0</td>\n",
       "      <td>-2.0</td>\n",
       "      <td>Go</td>\n",
       "      <td>red</td>\n",
       "      <td>5.0</td>\n",
       "      <td>2.0</td>\n",
       "      <td>-2.0</td>\n",
       "      <td>Go</td>\n",
       "      <td></td>\n",
       "    </tr>\n",
       "    <tr>\n",
       "      <th>2</th>\n",
       "      <td>1</td>\n",
       "      <td>3</td>\n",
       "      <td>green</td>\n",
       "      <td>3.0</td>\n",
       "      <td>5.0</td>\n",
       "      <td>-4.0</td>\n",
       "      <td>Go</td>\n",
       "      <td>red</td>\n",
       "      <td>5.0</td>\n",
       "      <td>3.0</td>\n",
       "      <td>-4.0</td>\n",
       "      <td>Stop</td>\n",
       "      <td></td>\n",
       "    </tr>\n",
       "    <tr>\n",
       "      <th>3</th>\n",
       "      <td>1</td>\n",
       "      <td>4</td>\n",
       "      <td>green</td>\n",
       "      <td>4.0</td>\n",
       "      <td>5.0</td>\n",
       "      <td>-6.0</td>\n",
       "      <td>Go</td>\n",
       "      <td>red</td>\n",
       "      <td>5.0</td>\n",
       "      <td>3.0</td>\n",
       "      <td>-6.0</td>\n",
       "      <td>Stop</td>\n",
       "      <td></td>\n",
       "    </tr>\n",
       "    <tr>\n",
       "      <th>4</th>\n",
       "      <td>1</td>\n",
       "      <td>5</td>\n",
       "      <td>green</td>\n",
       "      <td>5.0</td>\n",
       "      <td>5.0</td>\n",
       "      <td>-8.0</td>\n",
       "      <td>Go</td>\n",
       "      <td>red</td>\n",
       "      <td>5.0</td>\n",
       "      <td>3.0</td>\n",
       "      <td>-8.0</td>\n",
       "      <td>Go</td>\n",
       "      <td></td>\n",
       "    </tr>\n",
       "  </tbody>\n",
       "</table>\n",
       "</div>"
      ],
      "text/plain": [
       "   Sim   Time step   Color    X    Y   Reward  Move  Color.1   X.1   Y.1  \\\n",
       "0    1           1   green  1.0  5.0      0.0    Go      red   5.0   1.0   \n",
       "1    1           2   green  2.0  5.0     -2.0    Go      red   5.0   2.0   \n",
       "2    1           3   green  3.0  5.0     -4.0    Go      red   5.0   3.0   \n",
       "3    1           4   green  4.0  5.0     -6.0    Go      red   5.0   3.0   \n",
       "4    1           5   green  5.0  5.0     -8.0    Go      red   5.0   3.0   \n",
       "\n",
       "    Reward.1  Move.1     \n",
       "0        0.0      Go     \n",
       "1       -2.0      Go     \n",
       "2       -4.0    Stop     \n",
       "3       -6.0    Stop     \n",
       "4       -8.0      Go     "
      ]
     },
     "execution_count": 5,
     "metadata": {},
     "output_type": "execute_result"
    }
   ],
   "source": [
    "df = df.dropna()\n",
    "df.head()"
   ]
  },
  {
   "cell_type": "code",
   "execution_count": 33,
   "id": "5bec9f8b",
   "metadata": {
    "scrolled": false
   },
   "outputs": [],
   "source": [
    "df = df.dropna()"
   ]
  },
  {
   "cell_type": "code",
   "execution_count": 60,
   "id": "951b8fe5",
   "metadata": {},
   "outputs": [
    {
     "data": {
      "text/plain": [
       "(407, 414)"
      ]
     },
     "execution_count": 60,
     "metadata": {},
     "output_type": "execute_result"
    }
   ],
   "source": [
    "green_stop = 0\n",
    "red_stop = 0\n",
    "for i in range(len(df)):\n",
    "    if df[' Move'].to_list()[i] == ' Stop':\n",
    "        green_stop += 1\n",
    "    if df[' Move.1'].to_list()[i] == ' Stop':\n",
    "        red_stop += 1\n",
    "        \n",
    "green_stop, red_stop"
   ]
  },
  {
   "cell_type": "code",
   "execution_count": 59,
   "id": "1b4fa8f7",
   "metadata": {},
   "outputs": [
    {
     "data": {
      "image/png": "[encoded data removed]",
      "text/plain": [
       "<Figure size 576x432 with 1 Axes>"
      ]
     },
     "metadata": {
      "needs_background": "light"
     },
     "output_type": "display_data"
    }
   ],
   "source": [
    "import matplotlib.pyplot as plt\n",
    "\n",
    "plt.figure(figsize=(8, 6))\n",
    "plt.hist([green_stop, red_stop])\n",
    "plt.xticks([green_stop, red_stop])\n",
    "plt.show()"
   ]
  },
  {
   "cell_type": "code",
   "execution_count": null,
   "id": "00988513",
   "metadata": {},
   "outputs": [],
   "source": [
    "# Early stop(not in 4,5 or 5,4)\n",
    "# Stop before intersection(in 4,5 or 5,4)\n",
    "# Stop simultaneously (Both stop)\n",
    "# Success rate\n",
    "# Cumulative reward after each simulation\n",
    "\n",
    "# With bg\n",
    "# Success rate"
   ]
  }
 ],
 "metadata": {
  "kernelspec": {
   "display_name": "Python 3 (ipykernel)",
   "language": "python",
   "name": "python3"
  },
  "language_info": {
   "codemirror_mode": {
    "name": "ipython",
    "version": 3
   },
   "file_extension": ".py",
   "mimetype": "text/x-python",
   "name": "python",
   "nbconvert_exporter": "python",
   "pygments_lexer": "ipython3",
   "version": "3.9.7"
  }
 },
 "nbformat": 4,
 "nbformat_minor": 5
}
